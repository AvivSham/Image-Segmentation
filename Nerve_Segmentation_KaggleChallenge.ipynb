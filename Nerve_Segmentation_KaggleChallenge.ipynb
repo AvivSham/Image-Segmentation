{
  "nbformat": 4,
  "nbformat_minor": 0,
  "metadata": {
    "colab": {
      "name": "Nerve_Segmentation_KaggleChallenge.ipynb",
      "version": "0.3.2",
      "provenance": [],
      "toc_visible": true
    },
    "kernelspec": {
      "name": "python3",
      "display_name": "Python 3"
    },
    "accelerator": "GPU"
  },
  "cells": [
    {
      "metadata": {
        "id": "87FMBLOMtnwJ",
        "colab_type": "text"
      },
      "cell_type": "markdown",
      "source": [
        "#Example how to import data from kaggle to colab"
      ]
    },
    {
      "metadata": {
        "id": "9lOQj01lnfgz",
        "colab_type": "code",
        "colab": {}
      },
      "cell_type": "code",
      "source": [
        "#@title Import Dependencies and upload kaggle.json\n",
        "from google.colab import files\n",
        "!pip install kaggle\n",
        "files.upload()\n"
      ],
      "execution_count": 0,
      "outputs": []
    },
    {
      "metadata": {
        "id": "QQIRTAtSpoTk",
        "colab_type": "code",
        "colab": {}
      },
      "cell_type": "code",
      "source": [
        "# The Kaggle API client expects this file to be in ~/.kaggle,\n",
        "# so lets move it there.\n",
        "!mkdir -p ~/.kaggle\n",
        "!cp kaggle.json ~/.kaggle/\n"
      ],
      "execution_count": 0,
      "outputs": []
    },
    {
      "metadata": {
        "id": "PaJVr7Y-p5PH",
        "colab_type": "code",
        "colab": {}
      },
      "cell_type": "code",
      "source": [
        "# This permissions change avoids a warning on Kaggle tool startup.\n",
        "!chmod 600 ~/.kaggle/kaggle.json"
      ],
      "execution_count": 0,
      "outputs": []
    },
    {
      "metadata": {
        "id": "2O9xoGKJqWme",
        "colab_type": "code",
        "colab": {}
      },
      "cell_type": "code",
      "source": [
        "# Print the competition list\n",
        "!kaggle competitions list"
      ],
      "execution_count": 0,
      "outputs": []
    },
    {
      "metadata": {
        "id": "qPseDI83yGIP",
        "colab_type": "code",
        "colab": {}
      },
      "cell_type": "code",
      "source": [
        "!kaggle competitions download -c ultrasound-nerve-segmentation"
      ],
      "execution_count": 0,
      "outputs": []
    },
    {
      "metadata": {
        "id": "u_bOKx5CjbjE",
        "colab_type": "code",
        "colab": {}
      },
      "cell_type": "code",
      "source": [
        "!unzip test.zip"
      ],
      "execution_count": 0,
      "outputs": []
    },
    {
      "metadata": {
        "id": "rSEh_FW4j9aH",
        "colab_type": "code",
        "colab": {}
      },
      "cell_type": "code",
      "source": [
        "!unzip train.zip"
      ],
      "execution_count": 0,
      "outputs": []
    },
    {
      "metadata": {
        "id": "nSsVXplymBSe",
        "colab_type": "code",
        "colab": {}
      },
      "cell_type": "code",
      "source": [
        "import numpy as np\n",
        "from skimage.io import imread\n",
        "from skimage.transform import resize\n",
        "from keras.models import Model\n",
        "from keras.layers import Input, concatenate, Conv2D, MaxPooling2D, Conv2DTranspose\n",
        "from keras.optimizers import Adam\n",
        "from keras.callbacks import ModelCheckpoint, ReduceLROnPlateau\n",
        "from keras import backend as K\n",
        "import os\n"
      ],
      "execution_count": 0,
      "outputs": []
    },
    {
      "metadata": {
        "id": "zze3upHfkm7J",
        "colab_type": "code",
        "colab": {}
      },
      "cell_type": "code",
      "source": [
        "def create_data():\n",
        "  \n",
        "  ''' The function generates the train data and the test data\n",
        "      if os.getcwd ---> train folder the function returns X_train, Y_train\n",
        "      if os.getcwd ---> test folder the function returns X_test, names\n",
        "      names are the file names\n",
        "  '''\n",
        "  \n",
        "  total = len(os.listdir())\n",
        "  img_rows = 420\n",
        "  img_cols = 580\n",
        "  k=0\n",
        "  \n",
        "  if ('_' in os.listdir()[0]) :\n",
        "    \n",
        "    X_train = np.ndarray((total//2,img_rows,img_cols), dtype = np.uint8)\n",
        "    Y_train = np.ndarray( (total//2,img_rows,img_cols), dtype = np.uint8)\n",
        "  \n",
        "    for i in os.listdir():\n",
        "      if 'mask' not in i:\n",
        "        \n",
        "        X_train[k] = np.array([imread(i, as_grey = True)])    \n",
        "        Y_train[k] = np.array(imread(i.split('.')[0]+'_mask.tif', \n",
        "                                     as_grey = True))\n",
        "        k+=1\n",
        "    np.save('/content/imgs_train.npy', X_train)\n",
        "    np.save('/content/imgs_mask_train.npy', Y_train)\n",
        "    return X_train, Y_train\n",
        "\n",
        "  else:\n",
        "    names = []\n",
        "    X_test = np.ndarray( (total,img_rows,img_cols), dtype = np.uint8)\n",
        "    for i in os.listdir():      \n",
        "        X_test[k] = np.array(imread(i, as_grey = True))\n",
        "        names.append(i)\n",
        "        k+=1    \n",
        "    np.save('/content/imgs_test.npy', X_test)\n",
        "    return X_test, names\n",
        "        \n",
        "    \n",
        "    "
      ],
      "execution_count": 0,
      "outputs": []
    },
    {
      "metadata": {
        "id": "h18UAXf825mj",
        "colab_type": "code",
        "colab": {}
      },
      "cell_type": "code",
      "source": [
        "def load_data():\n",
        "  X_train = np.load('/content/img_train.npy')\n",
        "  Y_train = np.load('/content/img_mask_train.npy')\n",
        "  Y_test = np.load('/content/img_test.npy')\n",
        "  return X_train, Y_train, Y_test\n",
        "\n"
      ],
      "execution_count": 0,
      "outputs": []
    },
    {
      "metadata": {
        "id": "xkdPYQgMpFa-",
        "colab_type": "code",
        "colab": {}
      },
      "cell_type": "code",
      "source": [
        "def resize_img(imgs):\n",
        "  img_rows, img_cols = 96,96\n",
        "  imgs_p = np.ndarray((imgs.shape[0], img_rows, img_cols), dtype=np.uint8)\n",
        "  for i in range(imgs.shape[0]):\n",
        "    imgs_p[i] = resize(imgs[i], (img_cols, img_rows), preserve_range=True)\n",
        "  imgs_p = imgs_p[..., np.newaxis]\n",
        "  return imgs_p"
      ],
      "execution_count": 0,
      "outputs": []
    },
    {
      "metadata": {
        "id": "ZylQWdTw2PW3",
        "colab_type": "code",
        "colab": {}
      },
      "cell_type": "code",
      "source": [
        "def dice_coef(y_true, y_pred, smooth=1):\n",
        "    \"\"\"\n",
        "    Dice = (2*|X & Y|)/ (|X|+ |Y|)\n",
        "         =  2*sum(|A*B|)/(sum(A^2)+sum(B^2))\n",
        "    ref: https://arxiv.org/pdf/1606.04797v1.pdf\n",
        "    \"\"\"\n",
        "    intersection = K.sum(K.abs(y_true * y_pred), axis=-1)\n",
        "    return (2. * intersection + smooth) / (K.sum(K.square(y_true),-1) + K.sum(K.square(y_pred),-1) + smooth)\n",
        "\n",
        "def dice_coef_loss(y_true, y_pred):\n",
        "    return 1-dice_coef(y_true, y_pred)"
      ],
      "execution_count": 0,
      "outputs": []
    },
    {
      "metadata": {
        "id": "34GworQjA38G",
        "colab_type": "code",
        "colab": {}
      },
      "cell_type": "code",
      "source": [
        "def get_unet(input_shape):\n",
        "    inputs = Input(input_shape)\n",
        "    conv1 = Conv2D(32, (3, 3), activation='relu', padding='same')(inputs)\n",
        "    conv1 = Conv2D(32, (3, 3), activation='relu', padding='same')(conv1)\n",
        "    pool1 = MaxPooling2D(pool_size=(2, 2))(conv1)\n",
        "\n",
        "    conv2 = Conv2D(64, (3, 3), activation='relu', padding='same')(pool1)\n",
        "    conv2 = Conv2D(64, (3, 3), activation='relu', padding='same')(conv2)\n",
        "    pool2 = MaxPooling2D(pool_size=(2, 2))(conv2)\n",
        "\n",
        "    conv3 = Conv2D(128, (3, 3), activation='relu', padding='same')(pool2)\n",
        "    conv3 = Conv2D(128, (3, 3), activation='relu', padding='same')(conv3)\n",
        "    pool3 = MaxPooling2D(pool_size=(2, 2))(conv3)\n",
        "\n",
        "    conv4 = Conv2D(256, (3, 3), activation='relu', padding='same')(pool3)\n",
        "    conv4 = Conv2D(256, (3, 3), activation='relu', padding='same')(conv4)\n",
        "    pool4 = MaxPooling2D(pool_size=(2, 2))(conv4)\n",
        "\n",
        "    conv5 = Conv2D(512, (3, 3), activation='relu', padding='same')(pool4)\n",
        "    conv5 = Conv2D(512, (3, 3), activation='relu', padding='same')(conv5)\n",
        "\n",
        "    up6 = concatenate([Conv2DTranspose(256, (2, 2), strides=(2, 2), padding='same')(conv5), conv4], axis=3)\n",
        "    conv6 = Conv2D(256, (3, 3), activation='relu', padding='same')(up6)\n",
        "    conv6 = Conv2D(256, (3, 3), activation='relu', padding='same')(conv6)\n",
        "\n",
        "    up7 = concatenate([Conv2DTranspose(128, (2, 2), strides=(2, 2), padding='same')(conv6), conv3], axis=3)\n",
        "    conv7 = Conv2D(128, (3, 3), activation='relu', padding='same')(up7)\n",
        "    conv7 = Conv2D(128, (3, 3), activation='relu', padding='same')(conv7)\n",
        "\n",
        "    up8 = concatenate([Conv2DTranspose(64, (2, 2), strides=(2, 2), padding='same')(conv7), conv2], axis=3)\n",
        "    conv8 = Conv2D(64, (3, 3), activation='relu', padding='same')(up8)\n",
        "    conv8 = Conv2D(64, (3, 3), activation='relu', padding='same')(conv8)\n",
        "\n",
        "    up9 = concatenate([Conv2DTranspose(32, (2, 2), strides=(2, 2), padding='same')(conv8), conv1], axis=3)\n",
        "    conv9 = Conv2D(32, (3, 3), activation='relu', padding='same')(up9)\n",
        "    conv9 = Conv2D(32, (3, 3), activation='relu', padding='same')(conv9)\n",
        "\n",
        "    conv10 = Conv2D(1, (1, 1), activation='sigmoid')(conv9)\n",
        "\n",
        "    model = Model(inputs=[inputs], outputs=[conv10])\n",
        "\n",
        "    model.compile(optimizer=Adam(lr=1e-5), loss=dice_coef_loss, metrics=[dice_coef])\n",
        "\n",
        "    return model"
      ],
      "execution_count": 0,
      "outputs": []
    },
    {
      "metadata": {
        "id": "87gEOsFRlZl1",
        "colab_type": "code",
        "colab": {}
      },
      "cell_type": "code",
      "source": [
        "def train_model(X_train,Y_train,Y_test,names):\n",
        "  X_train_re,Y_train_re,X_test_re = (resize_img(i) for i in [X_train,Y_train,X_test])\n",
        "  X_train_re = X_train_re.astype(np.float64)\n",
        "  X_train_re /= np.std(X_train_re) # scale X_train\n",
        "  X_train_re -= np.mean(X_train_re) # center X_train\n",
        "  Y_train_re = Y_train_re.astype(np.float64)\n",
        "  Y_train_re /= 255. # scale Y_train [0,1]\n",
        "  model = get_unet(X_train_re.shape[1:])\n",
        "  reduce_lr = ReduceLROnPlateau(monitor = 'val_loss', factor = 0.25, patience = 10,\n",
        "                               verbose = 1, min_lr = 1e-12)\n",
        "  \n",
        "  model_check = ModelCheckpoint(\"Unet_model.h5\", monitor='val_loss', verbose=0,\n",
        "                                save_best_only=True, save_weights_only=True)\n",
        "  \n",
        "  model.fit(X_train_re, Y_train_re,batch_size = 32, epochs = 100 ,verbose = 2, callbacks = [reduce_lr, model_check],\n",
        "           validation_split = 0.2, shuffle = True)\n",
        "  \n",
        "  X_test_re = resize_img(X_test)\n",
        "  X_test_re = X_test.astype(np.float64)\n",
        "  X_test_re /= np.std(X_test_re)\n",
        "  X_test_re -= np.mean(X_test_re)\n",
        "  \n",
        "  model.load_weights('Unet_model.h5')\n",
        "  Y_test = model.predict(X_test_re)\n",
        "  \n",
        "  os.mkdir(pred_img)\n",
        "  for img, img_name in Y_test, names:\n",
        "    image = (image[:, :, 0] * 255.).astype(np.uint8)\n",
        "    imsave(('./pred_img'+ img_name + '_pred.png'), image)    \n",
        "\n",
        "  \n",
        "  \n",
        "  "
      ],
      "execution_count": 0,
      "outputs": []
    },
    {
      "metadata": {
        "id": "slziZ8CZ4umL",
        "colab_type": "code",
        "colab": {}
      },
      "cell_type": "code",
      "source": [
        "if __name__ == '__main__':\n",
        "  os.chdir('./train')\n",
        "  X_train, Y_train = create_data()\n",
        "  os.chdir('/content/test')\n",
        "  X_test, names = create_data()\n",
        "  "
      ],
      "execution_count": 0,
      "outputs": []
    },
    {
      "metadata": {
        "id": "hlDVSsReGoLe",
        "colab_type": "code",
        "colab": {}
      },
      "cell_type": "code",
      "source": [
        "train_model(X_train, Y_train, X_test, names)"
      ],
      "execution_count": 0,
      "outputs": []
    }
  ]
}