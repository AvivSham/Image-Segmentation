{
  "nbformat": 4,
  "nbformat_minor": 0,
  "metadata": {
    "colab": {
      "name": "Unet_Model.ipynb",
      "version": "0.3.2",
      "provenance": []
    },
    "kernelspec": {
      "name": "python3",
      "display_name": "Python 3"
    }
  },
  "cells": [
    {
      "metadata": {
        "id": "rwW6jF8K6CDT",
        "colab_type": "code",
        "colab": {
          "base_uri": "https://localhost:8080/",
          "height": 34
        },
        "outputId": "9beb3f62-587c-47f3-f2ed-c3e725473487"
      },
      "cell_type": "code",
      "source": [
        "from keras.models import Model, Input\n",
        "from keras.layers import (Conv2D, MaxPooling2D, Concatenate, UpSampling2D,\n",
        "                         Cropping2D)\n"
      ],
      "execution_count": 5,
      "outputs": [
        {
          "output_type": "stream",
          "text": [
            "Using TensorFlow backend.\n"
          ],
          "name": "stderr"
        }
      ]
    },
    {
      "metadata": {
        "id": "ZLbdIQks55Oj",
        "colab_type": "code",
        "colab": {}
      },
      "cell_type": "code",
      "source": [
        "def Unet_model(input_shape):\n",
        "  x = Input(input_shape)\n",
        "  conv1 = Conv2D(input_shape = input_shape, filters = 64, kernel_size = (3,3),\n",
        "                activation = 'relu')(x)\n",
        "  conv1 = Conv2D(filters = 64, kernel_size = (3,3),\n",
        "                activation = 'relu')(conv1)\n",
        "  max1 = MaxPooling2D(pool_size = (2,2))(conv1)\n",
        "  conv2 = Conv2D(filters = 128, kernel_size = (3,3),\n",
        "                activation = 'relu')(max1)\n",
        "  conv2 = Conv2D(filters = 128, kernel_size = (3,3),\n",
        "                activation = 'relu')(conv2)\n",
        "  max2 = MaxPooling2D(pool_size = (2,2))(conv2)\n",
        "  conv3 = Conv2D(filters = 256, kernel_size = (3,3),\n",
        "                activation = 'relu')(max2)\n",
        "  conv3 = Conv2D(filters = 256, kernel_size = (3,3),\n",
        "                activation = 'relu')(conv3)\n",
        "  max3 = MaxPooling2D(pool_size = (2,2))(conv3)\n",
        "  conv4 = Conv2D(filters = 512, kernel_size = (3,3),\n",
        "                activation = 'relu')(max3)\n",
        "  conv4 = Conv2D(filters = 512, kernel_size = (3,3),\n",
        "                activation = 'relu')(conv4)\n",
        "  max4 = MaxPooling2D(pool_size = (2,2))(conv4)\n",
        "  conv5 = Conv2D(filters = 128, kernel_size = (3,3),\n",
        "                activation = 'relu')(max4)\n",
        "  conv5 = Conv2D(filters = 512, kernel_size = (3,3),\n",
        "                activation = 'relu')(conv5)\n",
        "  conv5 = UpSampling2D(size = (2,2))(conv5)\n",
        "  conv4_crop = Cropping2D(cropping=(4,4))(conv4)\n",
        "  concate1 = Concatenate(axis = 3)([conv4_crop,conv5])\n",
        "  concate1 = Conv2D(filters = 512, kernel_size = (3,3),\n",
        "                activation = 'relu')(concate1)\n",
        "  concate1 = Conv2D(filters = 256, kernel_size = (3,3),\n",
        "                activation = 'relu')(concate1)\n",
        "  concate1 = UpSampling2D(size = (2,2))(concate1)\n",
        "  conv3_crop = Cropping2D(cropping=(16,16))(conv3)\n",
        "  concate2 = Concatenate(axis = 3)([conv3_crop,concate1])\n",
        "  concate2 = Conv2D(filters = 256, kernel_size = (3,3),\n",
        "                activation = 'relu')(concate2)\n",
        "  concate2 = Conv2D (filters = 128, kernel_size = (3,3),\n",
        "                activation = 'relu')(concate2)\n",
        "  concate2 = UpSampling2D(size = (2,2))(concate2)\n",
        "  conv2_crop = Cropping2D(cropping=(40,40))(conv2)\n",
        "  concate3 = Concatenate(axis = 3)([conv2_crop,concate2])  \n",
        "  concate3 = Conv2D(filters = 128, kernel_size = (3,3),\n",
        "                activation = 'relu')(concate3)\n",
        "  concate3 = Conv2D(filters = 64, kernel_size = (3,3),\n",
        "                activation = 'relu')(concate3)\n",
        "  concate3 = UpSampling2D(size = (2,2))(concate3)\n",
        "  conv1_crop = Cropping2D(cropping=(88,88))(conv1)\n",
        "  concate4 = Concatenate(axis = 3)([conv1_crop,concate3])\n",
        "  concate4 = Conv2D(filters = 64, kernel_size = (3,3),\n",
        "                activation = 'relu')(concate4)\n",
        "  concate4 = Conv2D(filters = 64, kernel_size = (3,3),\n",
        "                activation = 'relu')(concate4)\n",
        "  output = Conv2D(filters = 2, kernel_size = (1,1),\n",
        "                activation = 'sigmoid')(concate4)\n",
        "                                     \n",
        "  \n",
        "  Unet = Model(inputs = x, outputs = output)\n",
        "  Unet.summary()\n",
        "  return Unet"
      ],
      "execution_count": 0,
      "outputs": []
    },
    {
      "metadata": {
        "id": "pI9pXezdGRlg",
        "colab_type": "code",
        "colab": {}
      },
      "cell_type": "code",
      "source": [
        "#@title Check the architecture
        "if __name__ == '__main__':\n",
        "  Unet_model((572,572,1))"
      ],
      "execution_count": 0,
      "outputs": []
    }
  ]
}
